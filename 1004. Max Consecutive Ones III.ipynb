{
 "cells": [
  {
   "cell_type": "code",
   "execution_count": 2,
   "metadata": {},
   "outputs": [],
   "source": [
    "A = [1,1,1,0,0,0,1,1,1,1,0]\n",
    "K = 2"
   ]
  },
  {
   "cell_type": "code",
   "execution_count": 5,
   "metadata": {},
   "outputs": [
    {
     "data": {
      "text/plain": [
       "9"
      ]
     },
     "execution_count": 5,
     "metadata": {},
     "output_type": "execute_result"
    }
   ],
   "source": [
    "l = 0\n",
    "r = 0\n",
    "maxi = 0\n",
    "\n",
    "i = 0\n",
    "len_ = len(A)\n",
    "while r<len_ and l<=r:\n",
    "    if A[r] == 1:\n",
    "        maxi = max(maxi, r - l + 1)\n",
    "        r += 1\n",
    "    else:\n",
    "        if K == 0:\n",
    "            while A[l]:\n",
    "                l += 1\n",
    "            K += 1\n",
    "        else:\n",
    "            K -= 1\n",
    "            r += 1\n",
    "            maxi = max(maxi, r - l + 1)\n",
    "            \n",
    "maxi"
   ]
  },
  {
   "cell_type": "code",
   "execution_count": null,
   "metadata": {},
   "outputs": [],
   "source": []
  }
 ],
 "metadata": {
  "kernelspec": {
   "display_name": "Python 3",
   "language": "python",
   "name": "python3"
  },
  "language_info": {
   "codemirror_mode": {
    "name": "ipython",
    "version": 3
   },
   "file_extension": ".py",
   "mimetype": "text/x-python",
   "name": "python",
   "nbconvert_exporter": "python",
   "pygments_lexer": "ipython3",
   "version": "3.7.1"
  }
 },
 "nbformat": 4,
 "nbformat_minor": 2
}
