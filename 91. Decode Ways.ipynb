{
 "cells": [
  {
   "cell_type": "code",
   "execution_count": 19,
   "metadata": {},
   "outputs": [],
   "source": [
    "#https://leetcode.com/problems/decode-ways/description/\n",
    "def numDecodings(s):\n",
    "    \n",
    "    dp = [0 for i in range(len(s)+1)]\n",
    "    \n",
    "    dp[0] = 1\n",
    "    \n",
    "    if s[0]==\"0\":\n",
    "        dp[1] = 0\n",
    "    else:\n",
    "        dp[1] = 1\n",
    "        \n",
    "    for i in range(1,len(s)):\n",
    "        first = int(s[i:i+1])\n",
    "        second = int(s[i-1:i+1])\n",
    "        if first>=1 and first<=9:\n",
    "            dp[i] += dp[i-1]\n",
    "        if second>=10 and second<=26:\n",
    "            dp[i] += dp[i-2]\n",
    "    \n",
    "    return dp[len(s)-1]"
   ]
  },
  {
   "cell_type": "code",
   "execution_count": 20,
   "metadata": {},
   "outputs": [
    {
     "name": "stdout",
     "output_type": "stream",
     "text": [
      "2\n"
     ]
    }
   ],
   "source": [
    "s = \"12\"\n",
    "print(numDecodings(s))"
   ]
  },
  {
   "cell_type": "code",
   "execution_count": 10,
   "metadata": {},
   "outputs": [
    {
     "name": "stdout",
     "output_type": "stream",
     "text": [
      "True\n"
     ]
    }
   ],
   "source": [
    "s = \"12\"\n",
    "print(\"2\">\"11\")"
   ]
  },
  {
   "cell_type": "code",
   "execution_count": null,
   "metadata": {},
   "outputs": [],
   "source": []
  }
 ],
 "metadata": {
  "kernelspec": {
   "display_name": "Python 3",
   "language": "python",
   "name": "python3"
  },
  "language_info": {
   "codemirror_mode": {
    "name": "ipython",
    "version": 3
   },
   "file_extension": ".py",
   "mimetype": "text/x-python",
   "name": "python",
   "nbconvert_exporter": "python",
   "pygments_lexer": "ipython3",
   "version": "3.6.5"
  }
 },
 "nbformat": 4,
 "nbformat_minor": 2
}
