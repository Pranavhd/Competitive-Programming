{
 "cells": [
  {
   "cell_type": "code",
   "execution_count": null,
   "metadata": {},
   "outputs": [],
   "source": [
    "class Solution(object):\n",
    "    def isValid(self, S):\n",
    "        \"\"\"\n",
    "        :type S: str\n",
    "        :rtype: bool\n",
    "        \"\"\"\n",
    "        \n",
    "        if S.count('a')!=S.count('b') or S.count('c')!=S.count('a'):\n",
    "            return False\n",
    "        \n",
    "        ca = 0\n",
    "        cb = 0\n",
    "        cc = 0\n",
    "        \n",
    "        for ele in S:\n",
    "            if ele == 'a':\n",
    "                ca += 1\n",
    "            elif ele == 'b':\n",
    "                cb += 1\n",
    "            else:\n",
    "                cc += 1\n",
    "            \n",
    "            if cb > ca or cc > cb or cc > ca:\n",
    "                return False\n",
    "            \n",
    "        return True"
   ]
  }
 ],
 "metadata": {
  "kernelspec": {
   "display_name": "Python 3",
   "language": "python",
   "name": "python3"
  },
  "language_info": {
   "codemirror_mode": {
    "name": "ipython",
    "version": 3
   },
   "file_extension": ".py",
   "mimetype": "text/x-python",
   "name": "python",
   "nbconvert_exporter": "python",
   "pygments_lexer": "ipython3",
   "version": "3.7.1"
  }
 },
 "nbformat": 4,
 "nbformat_minor": 2
}
