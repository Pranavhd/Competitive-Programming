{
 "cells": [
  {
   "cell_type": "code",
   "execution_count": null,
   "metadata": {},
   "outputs": [],
   "source": [
    "# Definition for a binary tree node.\n",
    "# class TreeNode:\n",
    "#     def __init__(self, x):\n",
    "#         self.val = x\n",
    "#         self.left = None\n",
    "#         self.right = None\n",
    "\n",
    "class Solution:\n",
    "    def inorder(self, root, inorder_list):\n",
    "        if root:\n",
    "            self.inorder(root.left, inorder_list)\n",
    "            inorder_list.append(root.val)\n",
    "            self.inorder(root.right, inorder_list)\n",
    "    \n",
    "    def Construct(self, list_):\n",
    "        root = None\n",
    "        if list_!=[]:\n",
    "            max_val = list_[0]\n",
    "            ind_ = 0\n",
    "            for ind, ele in enumerate(list_):\n",
    "                if ele > max_val:\n",
    "                    max_val = ele\n",
    "                    ind_ = ind\n",
    "            root = TreeNode(max_val)\n",
    "            root.left = self.Construct(list_[:ind_])\n",
    "            root.right = self.Construct(list_[ind_+1:])\n",
    "        return root        \n",
    "    \n",
    "    def insertIntoMaxTree(self, root: TreeNode, val: int) -> TreeNode:\n",
    "        \n",
    "        list_ = []\n",
    "        self.inorder(root, list_)\n",
    "        \n",
    "        #print(list_)\n",
    "        list_.append(val)\n",
    "        return self.Construct(list_)\n",
    "        "
   ]
  },
  {
   "cell_type": "code",
   "execution_count": null,
   "metadata": {},
   "outputs": [],
   "source": [
    "#https://leetcode.com/problems/maximum-binary-tree-ii/"
   ]
  }
 ],
 "metadata": {
  "kernelspec": {
   "display_name": "Python 3",
   "language": "python",
   "name": "python3"
  },
  "language_info": {
   "codemirror_mode": {
    "name": "ipython",
    "version": 3
   },
   "file_extension": ".py",
   "mimetype": "text/x-python",
   "name": "python",
   "nbconvert_exporter": "python",
   "pygments_lexer": "ipython3",
   "version": "3.7.1"
  }
 },
 "nbformat": 4,
 "nbformat_minor": 2
}
