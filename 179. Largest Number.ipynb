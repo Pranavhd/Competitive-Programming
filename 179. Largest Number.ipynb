{
 "cells": [
  {
   "cell_type": "code",
   "execution_count": 11,
   "metadata": {},
   "outputs": [],
   "source": [
    "#https://leetcode.com/problems/largest-number/description/\n",
    "\n",
    "# python 2.7 for comparison function\n",
    "\n",
    "def largestNumber(nums):\n",
    "    nums = [str(num) for num in nums]\n",
    "    nums.sort(cmp= lambda x,y : cmp(y+x,x+y))\n",
    "\n",
    "    ans = \"\".join(nums)\n",
    "        \n",
    "    return ans.lstrip('0') or '0'\n",
    "    "
   ]
  },
  {
   "cell_type": "code",
   "execution_count": 12,
   "metadata": {},
   "outputs": [
    {
     "name": "stdout",
     "output_type": "stream",
     "text": [
      "210\n"
     ]
    }
   ],
   "source": [
    "nums = [10,2]\n",
    "print(largestNumber(nums))"
   ]
  }
 ],
 "metadata": {
  "kernelspec": {
   "display_name": "Python 3",
   "language": "python",
   "name": "python3"
  },
  "language_info": {
   "codemirror_mode": {
    "name": "ipython",
    "version": 3
   },
   "file_extension": ".py",
   "mimetype": "text/x-python",
   "name": "python",
   "nbconvert_exporter": "python",
   "pygments_lexer": "ipython3",
   "version": "3.6.5"
  }
 },
 "nbformat": 4,
 "nbformat_minor": 2
}
