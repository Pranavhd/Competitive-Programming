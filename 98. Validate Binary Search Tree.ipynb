{
 "cells": [
  {
   "cell_type": "code",
   "execution_count": 1,
   "metadata": {},
   "outputs": [],
   "source": [
    "#https://leetcode.com/problems/validate-binary-search-tree/description/\n",
    "class Solution(object):\n",
    "    def isValidBST(self, root):\n",
    "        \"\"\"\n",
    "        :type root: TreeNode\n",
    "        :rtype: bool\n",
    "        \"\"\"\n",
    "        \n",
    "        if root==None:\n",
    "            return True\n",
    "        \n",
    "        def helper(node,lower_,upper_):\n",
    "            if lower_ is not None and node.val<=lower_:\n",
    "                return False\n",
    "            if upper_ is not None and node.val>=upper_:\n",
    "                return False\n",
    "            \n",
    "            if node.left:\n",
    "                left = helper(node.left, lower_, node.val)\n",
    "            else:\n",
    "                left = True\n",
    "            if left:\n",
    "                if node.right:\n",
    "                    right = helper(node.right,node.val,upper_)\n",
    "                else:\n",
    "                    right = True\n",
    "                return right\n",
    "            else:\n",
    "                return False\n",
    "        \n",
    "        return helper(root,None,None)"
   ]
  },
  {
   "cell_type": "code",
   "execution_count": null,
   "metadata": {},
   "outputs": [],
   "source": []
  }
 ],
 "metadata": {
  "kernelspec": {
   "display_name": "Python 3",
   "language": "python",
   "name": "python3"
  },
  "language_info": {
   "codemirror_mode": {
    "name": "ipython",
    "version": 3
   },
   "file_extension": ".py",
   "mimetype": "text/x-python",
   "name": "python",
   "nbconvert_exporter": "python",
   "pygments_lexer": "ipython3",
   "version": "3.6.5"
  }
 },
 "nbformat": 4,
 "nbformat_minor": 2
}
