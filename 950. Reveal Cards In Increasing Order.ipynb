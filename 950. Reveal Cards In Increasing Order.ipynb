{
 "cells": [
  {
   "cell_type": "code",
   "execution_count": 1,
   "metadata": {},
   "outputs": [],
   "source": [
    "deck = [17,13,11,2,3,5,7]"
   ]
  },
  {
   "cell_type": "code",
   "execution_count": 7,
   "metadata": {},
   "outputs": [
    {
     "name": "stdout",
     "output_type": "stream",
     "text": [
      "deque([0, 1, 2, 3, 4, 5, 6])\n"
     ]
    }
   ],
   "source": [
    "from collections import deque\n",
    "\n",
    "N = len(deck)\n",
    "index = deque(range(N))\n",
    "print(index)"
   ]
  },
  {
   "cell_type": "code",
   "execution_count": 8,
   "metadata": {},
   "outputs": [
    {
     "data": {
      "text/plain": [
       "[None, None, None, None, None, None, None]"
      ]
     },
     "execution_count": 8,
     "metadata": {},
     "output_type": "execute_result"
    }
   ],
   "source": [
    "ans = [None] * N\n",
    "ans"
   ]
  },
  {
   "cell_type": "code",
   "execution_count": 9,
   "metadata": {},
   "outputs": [
    {
     "name": "stdout",
     "output_type": "stream",
     "text": [
      "[2, None, None, None, None, None, None]\n",
      "deque([2, 3, 4, 5, 6, 1])\n",
      "[2, None, 13, None, None, None, None]\n",
      "deque([4, 5, 6, 1, 3])\n",
      "[2, None, 13, None, 3, None, None]\n",
      "deque([6, 1, 3, 5])\n",
      "[2, None, 13, None, 3, None, 11]\n",
      "deque([3, 5, 1])\n",
      "[2, None, 13, 5, 3, None, 11]\n",
      "deque([1, 5])\n",
      "[2, 17, 13, 5, 3, None, 11]\n",
      "deque([5])\n",
      "[2, 17, 13, 5, 3, 7, 11]\n"
     ]
    }
   ],
   "source": [
    "for card in [2,13,3,11,5,17,7]:\n",
    "    ans[index.popleft()] = card\n",
    "    print(ans)\n",
    "    if index:\n",
    "        index.append(index.popleft())\n",
    "        print(index)"
   ]
  },
  {
   "cell_type": "code",
   "execution_count": null,
   "metadata": {},
   "outputs": [],
   "source": []
  }
 ],
 "metadata": {
  "kernelspec": {
   "display_name": "Python 3",
   "language": "python",
   "name": "python3"
  },
  "language_info": {
   "codemirror_mode": {
    "name": "ipython",
    "version": 3
   },
   "file_extension": ".py",
   "mimetype": "text/x-python",
   "name": "python",
   "nbconvert_exporter": "python",
   "pygments_lexer": "ipython3",
   "version": "3.7.1"
  }
 },
 "nbformat": 4,
 "nbformat_minor": 2
}
