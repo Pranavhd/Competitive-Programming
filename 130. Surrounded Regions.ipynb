{
 "cells": [
  {
   "cell_type": "code",
   "execution_count": 3,
   "metadata": {},
   "outputs": [],
   "source": [
    "#https://leetcode.com/problems/surrounded-regions/description/\n",
    "\n",
    "def solve(board):\n",
    "    \n",
    "    if board == []:\n",
    "        return\n",
    "    \n",
    "    rows = len(board)\n",
    "    cols = len(board[0])\n",
    "    \n",
    "    def BFS(x,y):\n",
    "        board[x][y] = \"1\"\n",
    "        if x>0 and board[x-1][y] == \"O\":\n",
    "            BFS(x-1,y)\n",
    "        if x<rows-1 and board[x+1][y] == \"O\":\n",
    "            BFS(x+1,y)\n",
    "        if y>0 and board[x][y-1] == \"O\":\n",
    "            BFS(x,y-1)\n",
    "        if y<cols-1 and board[x][y+1] == \"O\":\n",
    "            BFS(x,y+1)   \n",
    "    \n",
    "    for i in range(cols):\n",
    "        if board[0][i] == \"O\":\n",
    "            BFS(0,i)\n",
    "        if board[rows-1][i] == \"O\":\n",
    "            BFS(rows-1,i)\n",
    "    \n",
    "    for i in range(rows):\n",
    "        if board[i][0] == \"O\":\n",
    "            BFS(i,0)\n",
    "        if board[i][cols-1] == \"O\":\n",
    "            BFS(i,cols-1)\n",
    "    \n",
    "    for i in range(rows):\n",
    "        for j in range(cols):\n",
    "            if board[i][j]==\"O\":\n",
    "                board[i][j] = \"X\"\n",
    "                \n",
    "    for i in range(rows):\n",
    "        for j in range(cols):\n",
    "            if board[i][j]==\"1\":\n",
    "                board[i][j] = \"O\"\n",
    "    \n",
    "    print(board)\n",
    "    "
   ]
  },
  {
   "cell_type": "code",
   "execution_count": 4,
   "metadata": {},
   "outputs": [
    {
     "name": "stdout",
     "output_type": "stream",
     "text": [
      "[['X', 'X', 'X', 'X'], ['X', 'X', 'X', 'X'], ['X', 'X', 'X', 'X'], ['X', 'O', 'X', 'X']]\n"
     ]
    }
   ],
   "source": [
    "board = [[\"X\",\"X\",\"X\",\"X\"],[\"X\",\"O\",\"O\",\"X\"],[\"X\",\"X\",\"O\",\"X\"],[\"X\",\"O\",\"X\",\"X\"]]\n",
    "solve(board)"
   ]
  },
  {
   "cell_type": "code",
   "execution_count": null,
   "metadata": {},
   "outputs": [],
   "source": []
  }
 ],
 "metadata": {
  "kernelspec": {
   "display_name": "Python 3",
   "language": "python",
   "name": "python3"
  },
  "language_info": {
   "codemirror_mode": {
    "name": "ipython",
    "version": 3
   },
   "file_extension": ".py",
   "mimetype": "text/x-python",
   "name": "python",
   "nbconvert_exporter": "python",
   "pygments_lexer": "ipython3",
   "version": "3.6.5"
  }
 },
 "nbformat": 4,
 "nbformat_minor": 2
}
