{
 "cells": [
  {
   "cell_type": "code",
   "execution_count": 5,
   "metadata": {},
   "outputs": [],
   "source": [
    "points = [[1,3],[1,1],[3,1],[3,3],[2,2]]\n",
    "import collections"
   ]
  },
  {
   "cell_type": "code",
   "execution_count": 6,
   "metadata": {},
   "outputs": [
    {
     "data": {
      "text/plain": [
       "defaultdict(list, {1: [3, 1], 3: [1, 3], 2: [2]})"
      ]
     },
     "execution_count": 6,
     "metadata": {},
     "output_type": "execute_result"
    }
   ],
   "source": [
    "columns = collections.defaultdict(list)\n",
    "\n",
    "for point in points:\n",
    "    x, y = point\n",
    "    columns[x].append(y)\n",
    "    \n",
    "columns"
   ]
  },
  {
   "cell_type": "code",
   "execution_count": 7,
   "metadata": {},
   "outputs": [
    {
     "data": {
      "text/plain": [
       "[1, 2, 3]"
      ]
     },
     "execution_count": 7,
     "metadata": {},
     "output_type": "execute_result"
    }
   ],
   "source": [
    "sorted(columns)"
   ]
  },
  {
   "cell_type": "code",
   "execution_count": 16,
   "metadata": {},
   "outputs": [],
   "source": [
    "columns\n",
    "prev = {}"
   ]
  },
  {
   "cell_type": "code",
   "execution_count": 17,
   "metadata": {},
   "outputs": [
    {
     "name": "stdout",
     "output_type": "stream",
     "text": [
      "3 1 3 1\n",
      "4\n"
     ]
    }
   ],
   "source": [
    "ans = float('inf')\n",
    "\n",
    "for x in sorted(columns):\n",
    "    col = sorted(columns[x])\n",
    "    len_ = len(col)\n",
    "    for i in range(len_-1):\n",
    "        y1 = col[i]\n",
    "        for j in range(i+1, len_):\n",
    "            y2 = col[j]\n",
    "            if (y1, y2) in prev:\n",
    "                print(x, prev[y1, y2], y2, y1)\n",
    "                ans = min(ans, (x - prev[y1, y2]) * (y2 - y1))\n",
    "            prev[y1, y2] = x\n",
    "            \n",
    "if ans < float('inf'):\n",
    "    print(ans)\n",
    "else:\n",
    "    print(0)"
   ]
  },
  {
   "cell_type": "code",
   "execution_count": 18,
   "metadata": {},
   "outputs": [],
   "source": [
    "s =\"\"\n",
    "while s:\n",
    "    print(\"ok\")"
   ]
  },
  {
   "cell_type": "code",
   "execution_count": null,
   "metadata": {},
   "outputs": [],
   "source": []
  }
 ],
 "metadata": {
  "kernelspec": {
   "display_name": "Python 3",
   "language": "python",
   "name": "python3"
  },
  "language_info": {
   "codemirror_mode": {
    "name": "ipython",
    "version": 3
   },
   "file_extension": ".py",
   "mimetype": "text/x-python",
   "name": "python",
   "nbconvert_exporter": "python",
   "pygments_lexer": "ipython3",
   "version": "3.7.1"
  }
 },
 "nbformat": 4,
 "nbformat_minor": 2
}
