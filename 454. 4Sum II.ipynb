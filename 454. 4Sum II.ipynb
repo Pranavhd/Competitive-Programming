{
 "cells": [
  {
   "cell_type": "code",
   "execution_count": 3,
   "metadata": {},
   "outputs": [],
   "source": [
    "#https://leetcode.com/problems/4sum-ii/description/\n",
    "import time"
   ]
  },
  {
   "cell_type": "code",
   "execution_count": 6,
   "metadata": {},
   "outputs": [],
   "source": [
    "def fourSumCount1( A, B, C, D):\n",
    "    AB = collections.Counter(a+b for a in A for b in B)\n",
    "    return sum(AB[-c-d] for c in C for d in D)"
   ]
  },
  {
   "cell_type": "code",
   "execution_count": 7,
   "metadata": {},
   "outputs": [],
   "source": [
    "import collections\n",
    "\n",
    "def fourSumCount2(A, B, C, D):\n",
    "    AB = collections.Counter()\n",
    "    for a in A:\n",
    "        for b in B:\n",
    "            AB[a+b] += 1\n",
    "\n",
    "    ans = 0\n",
    "    for c in C:\n",
    "        for d in D:\n",
    "            if -c-d in AB:\n",
    "                ans += AB[-c-d]\n",
    "    \n",
    "    return ans"
   ]
  },
  {
   "cell_type": "code",
   "execution_count": 9,
   "metadata": {},
   "outputs": [
    {
     "name": "stdout",
     "output_type": "stream",
     "text": [
      "2\n",
      "0.0\n",
      "2\n",
      "0.0\n"
     ]
    }
   ],
   "source": [
    "A = [1,2]\n",
    "B = [-2,-1]\n",
    "C = [-1,2]\n",
    "D = [0,2]\n",
    "start = time.time()\n",
    "print(fourSumCount1(A,B,C,D))\n",
    "end = time.time() - start\n",
    "print(end)\n",
    "start = time.time()\n",
    "print(fourSumCount2(A,B,C,D))\n",
    "end = time.time() - start\n",
    "print(end)"
   ]
  },
  {
   "cell_type": "code",
   "execution_count": null,
   "metadata": {},
   "outputs": [],
   "source": []
  }
 ],
 "metadata": {
  "kernelspec": {
   "display_name": "Python 3",
   "language": "python",
   "name": "python3"
  },
  "language_info": {
   "codemirror_mode": {
    "name": "ipython",
    "version": 3
   },
   "file_extension": ".py",
   "mimetype": "text/x-python",
   "name": "python",
   "nbconvert_exporter": "python",
   "pygments_lexer": "ipython3",
   "version": "3.6.5"
  }
 },
 "nbformat": 4,
 "nbformat_minor": 2
}
