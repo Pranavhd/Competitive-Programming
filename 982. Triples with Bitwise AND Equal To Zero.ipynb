{
 "cells": [
  {
   "cell_type": "code",
   "execution_count": null,
   "metadata": {},
   "outputs": [],
   "source": [
    "#https://leetcode.com/contest/weekly-contest-121/problems/triples-with-bitwise-and-equal-to-zero/"
   ]
  },
  {
   "cell_type": "code",
   "execution_count": 2,
   "metadata": {},
   "outputs": [
    {
     "name": "stdout",
     "output_type": "stream",
     "text": [
      "65536\n"
     ]
    }
   ],
   "source": [
    "print(1<<16)"
   ]
  },
  {
   "cell_type": "code",
   "execution_count": 13,
   "metadata": {},
   "outputs": [],
   "source": [
    "def countTriplets(A):\n",
    "    \"\"\"\n",
    "    :type A: List[int]\n",
    "    :rtype: int\n",
    "    \"\"\"\n",
    "    \n",
    "    hash_ = [0 for i in range(1<<16)]\n",
    "    len_ = len(A)\n",
    "    maxi_ = 0\n",
    "    ans = 0\n",
    "    \n",
    "    for i in range(len_):\n",
    "        for j in range(len_):\n",
    "            num = A[i] & A[j]\n",
    "            hash_[num] += 1\n",
    "            maxi_ = max(maxi_,num)     \n",
    "    \n",
    "    for i in range(maxi_+1):\n",
    "        if hash_[i] == 0:\n",
    "                continue\n",
    "        for j in range(len_):\n",
    "            if A[j] & i == 0:\n",
    "                ans += hash_[i]\n",
    "    \n",
    "    return ans            "
   ]
  },
  {
   "cell_type": "code",
   "execution_count": 14,
   "metadata": {},
   "outputs": [
    {
     "name": "stdout",
     "output_type": "stream",
     "text": [
      "12\n"
     ]
    }
   ],
   "source": [
    "A = [2,1,3]\n",
    "print(countTriplets(A))"
   ]
  },
  {
   "cell_type": "code",
   "execution_count": 15,
   "metadata": {},
   "outputs": [],
   "source": [
    "def countTriplets2(A):\n",
    "    \"\"\"\n",
    "    :type A: List[int]\n",
    "    :rtype: int\n",
    "    \"\"\"\n",
    "    \n",
    "    hash_ = {}\n",
    "    len_ = len(A)\n",
    "    ans = 0\n",
    "    \n",
    "    for i in range(len_):\n",
    "        for j in range(len_):\n",
    "            num = A[i] & A[j]\n",
    "            if num in hash_:\n",
    "                hash_[num] += 1\n",
    "            else:\n",
    "                hash_[num] = 1  \n",
    "    \n",
    "    for i in hash_:\n",
    "        for j in range(len_):\n",
    "            if A[j] & i == 0:\n",
    "                ans += hash_[i]\n",
    "    \n",
    "    return ans  "
   ]
  },
  {
   "cell_type": "code",
   "execution_count": 16,
   "metadata": {},
   "outputs": [
    {
     "name": "stdout",
     "output_type": "stream",
     "text": [
      "12\n"
     ]
    }
   ],
   "source": [
    "A = [2,1,3]\n",
    "print(countTriplets2(A))"
   ]
  },
  {
   "cell_type": "code",
   "execution_count": null,
   "metadata": {},
   "outputs": [],
   "source": []
  }
 ],
 "metadata": {
  "kernelspec": {
   "display_name": "Python 3",
   "language": "python",
   "name": "python3"
  },
  "language_info": {
   "codemirror_mode": {
    "name": "ipython",
    "version": 3
   },
   "file_extension": ".py",
   "mimetype": "text/x-python",
   "name": "python",
   "nbconvert_exporter": "python",
   "pygments_lexer": "ipython3",
   "version": "3.6.5"
  }
 },
 "nbformat": 4,
 "nbformat_minor": 2
}
