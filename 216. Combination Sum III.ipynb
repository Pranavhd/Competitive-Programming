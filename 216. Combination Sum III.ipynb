{
 "cells": [
  {
   "cell_type": "code",
   "execution_count": 58,
   "metadata": {},
   "outputs": [],
   "source": [
    "def combinationSum3(k, n):\n",
    "    \"\"\"\n",
    "    :type k: int\n",
    "    :type n: int\n",
    "    :rtype: List[List[int]]\n",
    "    \"\"\"\n",
    "    result = []\n",
    "    list_valid = [1,2,3,4,5,6,7,8,9]\n",
    "    \n",
    "    def helper(result, tempo, k, n, start):\n",
    "        if k == 0 and n == 0:\n",
    "            result.append(list(tempo))                     #very important step, list() creates a new list, thus if previous list is edited which it will be, it wont affect the final list ka answers\n",
    "            #print(tempo, type(tempo), result)\n",
    "        else:\n",
    "            for i in range(start, len(list_valid)):\n",
    "                if n > 0 and k > 0:\n",
    "                    tempo.append(list_valid[i])\n",
    "                    helper(result, tempo, k - 1, n - list_valid[i],  i+1)\n",
    "                    tempo.pop(-1)\n",
    "           \n",
    "    helper(result, [], k, n, 0)\n",
    "    return result"
   ]
  },
  {
   "cell_type": "code",
   "execution_count": 59,
   "metadata": {},
   "outputs": [
    {
     "name": "stdout",
     "output_type": "stream",
     "text": [
      "[[1, 2, 6], [1, 3, 5], [2, 3, 4]]\n"
     ]
    }
   ],
   "source": [
    "print(combinationSum3(3,9))"
   ]
  },
  {
   "cell_type": "code",
   "execution_count": 34,
   "metadata": {},
   "outputs": [],
   "source": [
    "def helper(result, tempo, k, n, start, list_valid):\n",
    "    if k == 0 and n == 0:\n",
    "        result.append(tempo)\n",
    "        print(tempo, type(tempo), result)\n",
    "    else:\n",
    "        for i in range(start, len(list_valid)):\n",
    "            if n > 0 and k > 0:\n",
    "                tempo.append(list_valid[i])\n",
    "                helper(result, tempo, k - 1, n - list_valid[i],  i+1, list_valid)\n",
    "                tempo.pop(-1)\n",
    "\n",
    "def combinationSum2(k, n):\n",
    "    \"\"\"\n",
    "    :type k: int\n",
    "    :type n: int\n",
    "    :rtype: List[List[int]]\n",
    "    \"\"\"\n",
    "    result = []\n",
    "    list_valid = [1,2,3,4,5,6,7,8,9]\n",
    "    temp = []\n",
    "    \n",
    "    helper(result, temp, k, n, 0, list_valid)\n",
    "    return result"
   ]
  },
  {
   "cell_type": "code",
   "execution_count": 35,
   "metadata": {},
   "outputs": [
    {
     "name": "stdout",
     "output_type": "stream",
     "text": [
      "[1, 2, 6] <class 'list'> [[1, 2, 6]]\n",
      "[1, 3, 5] <class 'list'> [[1, 3, 5], [1, 3, 5]]\n",
      "[2, 3, 4] <class 'list'> [[2, 3, 4], [2, 3, 4], [2, 3, 4]]\n",
      "[[], [], []]\n"
     ]
    }
   ],
   "source": [
    "print(combinationSum2(3,9))"
   ]
  },
  {
   "cell_type": "code",
   "execution_count": 43,
   "metadata": {},
   "outputs": [
    {
     "name": "stdout",
     "output_type": "stream",
     "text": [
      "[1, 2]\n",
      "[1, 2, 3]\n",
      "[1, 2, 3]\n"
     ]
    }
   ],
   "source": [
    "temp_ex = [1,2]\n",
    "\n",
    "def some_ex(temp):\n",
    "    temp.append(3)\n",
    "    print(temp)\n",
    "    \n",
    "print(temp_ex)\n",
    "some_ex(temp_ex)\n",
    "print(temp_ex)"
   ]
  },
  {
   "cell_type": "code",
   "execution_count": null,
   "metadata": {},
   "outputs": [],
   "source": []
  }
 ],
 "metadata": {
  "kernelspec": {
   "display_name": "Python 3",
   "language": "python",
   "name": "python3"
  },
  "language_info": {
   "codemirror_mode": {
    "name": "ipython",
    "version": 3
   },
   "file_extension": ".py",
   "mimetype": "text/x-python",
   "name": "python",
   "nbconvert_exporter": "python",
   "pygments_lexer": "ipython3",
   "version": "3.7.1"
  }
 },
 "nbformat": 4,
 "nbformat_minor": 2
}
